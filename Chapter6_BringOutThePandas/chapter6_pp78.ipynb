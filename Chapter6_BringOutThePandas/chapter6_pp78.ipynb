{
 "cells": [
  {
   "cell_type": "code",
   "execution_count": 1,
   "metadata": {},
   "outputs": [
    {
     "name": "stdout",
     "output_type": "stream",
     "text": [
      "             SP500      NDX\n",
      "Date                       \n",
      "1990-01-02  359.69  227.725\n",
      "1990-01-03  358.76  226.100\n",
      "1990-01-04  355.67  224.715\n",
      "1990-01-05  352.20  223.140\n",
      "1990-01-08  353.79  223.540\n"
     ]
    }
   ],
   "source": [
    "import pandas as pd\n",
    "import matplotlib.pyplot as plt\n",
    "\n",
    "%matplotlib inline\n",
    "\n",
    "def get_data(file):\n",
    "    return pd.read_csv( file + '.csv', index_col=0, parse_dates=True )\n",
    "\n",
    "#calculate return correlations on a rolling window\n",
    "def calc_corr( ser1, ser2, window ):\n",
    "    ret1 = ser1.pct_change(1)\n",
    "    ret2 = ser2.pct_change(1)\n",
    "\n",
    "    return ret1.rolling(window).corr(ret2)\n",
    "\n",
    "\n",
    "#define points to plot\n",
    "points_to_plot = 300\n",
    "\n",
    "data = get_data('indexes')\n",
    "\n",
    "print(data.head())\n"
   ]
  },
  {
   "cell_type": "code",
   "execution_count": 2,
   "metadata": {},
   "outputs": [
    {
     "name": "stdout",
     "output_type": "stream",
     "text": [
      "              SP500       NDX  SP500_norm  NDX_norm\n",
      "Date                                               \n",
      "2018-07-27  2818.82  7296.781    1.167179  1.262774\n",
      "2018-07-30  2802.60  7193.103    1.160463  1.244832\n",
      "2018-07-31  2816.29  7231.983    1.166132  1.251560\n",
      "2018-08-01  2813.36  7272.887    1.164919  1.258639\n",
      "2018-08-02  2827.22  7372.148    1.170658  1.275817\n"
     ]
    }
   ],
   "source": [
    "#normalize to the same point in time\n",
    "\n",
    "\n",
    "for col in data:\n",
    "    data[ col + '_norm'] = ( data[-points_to_plot:][col].pct_change(1) + 1 ).cumprod()\n",
    "    \n",
    "    \n",
    "print(data.tail())"
   ]
  },
  {
   "cell_type": "code",
   "execution_count": 3,
   "metadata": {},
   "outputs": [
    {
     "name": "stdout",
     "output_type": "stream",
     "text": [
      "Date\n",
      "1990-01-02    359.69\n",
      "1990-01-03    358.76\n",
      "1990-01-04    355.67\n",
      "1990-01-05    352.20\n",
      "1990-01-08    353.79\n",
      "Name: SP500, dtype: float64\n"
     ]
    }
   ],
   "source": [
    "print(data['SP500'].head())"
   ]
  },
  {
   "cell_type": "code",
   "execution_count": 4,
   "metadata": {},
   "outputs": [
    {
     "data": {
      "text/plain": [
       "pandas.core.series.Series"
      ]
     },
     "execution_count": 4,
     "metadata": {},
     "output_type": "execute_result"
    }
   ],
   "source": [
    "type(data['SP500'])"
   ]
  },
  {
   "cell_type": "code",
   "execution_count": 5,
   "metadata": {},
   "outputs": [
    {
     "data": {
      "text/html": [
       "<div>\n",
       "<style scoped>\n",
       "    .dataframe tbody tr th:only-of-type {\n",
       "        vertical-align: middle;\n",
       "    }\n",
       "\n",
       "    .dataframe tbody tr th {\n",
       "        vertical-align: top;\n",
       "    }\n",
       "\n",
       "    .dataframe thead th {\n",
       "        text-align: right;\n",
       "    }\n",
       "</style>\n",
       "<table border=\"1\" class=\"dataframe\">\n",
       "  <thead>\n",
       "    <tr style=\"text-align: right;\">\n",
       "      <th></th>\n",
       "      <th>SP500</th>\n",
       "      <th>NDX</th>\n",
       "      <th>SP500_norm</th>\n",
       "      <th>NDX_norm</th>\n",
       "      <th>corr</th>\n",
       "    </tr>\n",
       "    <tr>\n",
       "      <th>Date</th>\n",
       "      <th></th>\n",
       "      <th></th>\n",
       "      <th></th>\n",
       "      <th></th>\n",
       "      <th></th>\n",
       "    </tr>\n",
       "  </thead>\n",
       "  <tbody>\n",
       "    <tr>\n",
       "      <th>2018-07-27</th>\n",
       "      <td>2818.82</td>\n",
       "      <td>7296.781</td>\n",
       "      <td>1.167179</td>\n",
       "      <td>1.262774</td>\n",
       "      <td>0.939082</td>\n",
       "    </tr>\n",
       "    <tr>\n",
       "      <th>2018-07-30</th>\n",
       "      <td>2802.60</td>\n",
       "      <td>7193.103</td>\n",
       "      <td>1.160463</td>\n",
       "      <td>1.244832</td>\n",
       "      <td>0.938597</td>\n",
       "    </tr>\n",
       "    <tr>\n",
       "      <th>2018-07-31</th>\n",
       "      <td>2816.29</td>\n",
       "      <td>7231.983</td>\n",
       "      <td>1.166132</td>\n",
       "      <td>1.251560</td>\n",
       "      <td>0.938573</td>\n",
       "    </tr>\n",
       "    <tr>\n",
       "      <th>2018-08-01</th>\n",
       "      <td>2813.36</td>\n",
       "      <td>7272.887</td>\n",
       "      <td>1.164919</td>\n",
       "      <td>1.258639</td>\n",
       "      <td>0.935668</td>\n",
       "    </tr>\n",
       "    <tr>\n",
       "      <th>2018-08-02</th>\n",
       "      <td>2827.22</td>\n",
       "      <td>7372.148</td>\n",
       "      <td>1.170658</td>\n",
       "      <td>1.275817</td>\n",
       "      <td>0.935795</td>\n",
       "    </tr>\n",
       "  </tbody>\n",
       "</table>\n",
       "</div>"
      ],
      "text/plain": [
       "              SP500       NDX  SP500_norm  NDX_norm      corr\n",
       "Date                                                         \n",
       "2018-07-27  2818.82  7296.781    1.167179  1.262774  0.939082\n",
       "2018-07-30  2802.60  7193.103    1.160463  1.244832  0.938597\n",
       "2018-07-31  2816.29  7231.983    1.166132  1.251560  0.938573\n",
       "2018-08-01  2813.36  7272.887    1.164919  1.258639  0.935668\n",
       "2018-08-02  2827.22  7372.148    1.170658  1.275817  0.935795"
      ]
     },
     "execution_count": 5,
     "metadata": {},
     "output_type": "execute_result"
    }
   ],
   "source": [
    "data['corr'] = calc_corr( data['SP500_norm'], data['NDX_norm'], 100)\n",
    "\n",
    "data.tail()"
   ]
  },
  {
   "cell_type": "code",
   "execution_count": 6,
   "metadata": {},
   "outputs": [],
   "source": [
    "data['rel_str'] = data['NDX'] / data['SP500']"
   ]
  },
  {
   "cell_type": "code",
   "execution_count": 7,
   "metadata": {},
   "outputs": [
    {
     "data": {
      "text/html": [
       "<div>\n",
       "<style scoped>\n",
       "    .dataframe tbody tr th:only-of-type {\n",
       "        vertical-align: middle;\n",
       "    }\n",
       "\n",
       "    .dataframe tbody tr th {\n",
       "        vertical-align: top;\n",
       "    }\n",
       "\n",
       "    .dataframe thead th {\n",
       "        text-align: right;\n",
       "    }\n",
       "</style>\n",
       "<table border=\"1\" class=\"dataframe\">\n",
       "  <thead>\n",
       "    <tr style=\"text-align: right;\">\n",
       "      <th></th>\n",
       "      <th>SP500</th>\n",
       "      <th>NDX</th>\n",
       "      <th>SP500_norm</th>\n",
       "      <th>NDX_norm</th>\n",
       "      <th>corr</th>\n",
       "      <th>rel_str</th>\n",
       "    </tr>\n",
       "    <tr>\n",
       "      <th>Date</th>\n",
       "      <th></th>\n",
       "      <th></th>\n",
       "      <th></th>\n",
       "      <th></th>\n",
       "      <th></th>\n",
       "      <th></th>\n",
       "    </tr>\n",
       "  </thead>\n",
       "  <tbody>\n",
       "    <tr>\n",
       "      <th>2017-05-25</th>\n",
       "      <td>2415.07</td>\n",
       "      <td>5778.374</td>\n",
       "      <td>NaN</td>\n",
       "      <td>NaN</td>\n",
       "      <td>NaN</td>\n",
       "      <td>2.392632</td>\n",
       "    </tr>\n",
       "    <tr>\n",
       "      <th>2017-05-26</th>\n",
       "      <td>2415.82</td>\n",
       "      <td>5788.359</td>\n",
       "      <td>1.000311</td>\n",
       "      <td>1.001728</td>\n",
       "      <td>NaN</td>\n",
       "      <td>2.396022</td>\n",
       "    </tr>\n",
       "    <tr>\n",
       "      <th>2017-05-30</th>\n",
       "      <td>2412.91</td>\n",
       "      <td>5794.632</td>\n",
       "      <td>0.999106</td>\n",
       "      <td>1.002814</td>\n",
       "      <td>NaN</td>\n",
       "      <td>2.401512</td>\n",
       "    </tr>\n",
       "    <tr>\n",
       "      <th>2017-05-31</th>\n",
       "      <td>2411.80</td>\n",
       "      <td>5788.802</td>\n",
       "      <td>0.998646</td>\n",
       "      <td>1.001805</td>\n",
       "      <td>NaN</td>\n",
       "      <td>2.400200</td>\n",
       "    </tr>\n",
       "    <tr>\n",
       "      <th>2017-06-01</th>\n",
       "      <td>2430.06</td>\n",
       "      <td>5816.511</td>\n",
       "      <td>1.006207</td>\n",
       "      <td>1.006600</td>\n",
       "      <td>NaN</td>\n",
       "      <td>2.393567</td>\n",
       "    </tr>\n",
       "  </tbody>\n",
       "</table>\n",
       "</div>"
      ],
      "text/plain": [
       "              SP500       NDX  SP500_norm  NDX_norm  corr   rel_str\n",
       "Date                                                               \n",
       "2017-05-25  2415.07  5778.374         NaN       NaN   NaN  2.392632\n",
       "2017-05-26  2415.82  5788.359    1.000311  1.001728   NaN  2.396022\n",
       "2017-05-30  2412.91  5794.632    0.999106  1.002814   NaN  2.401512\n",
       "2017-05-31  2411.80  5788.802    0.998646  1.001805   NaN  2.400200\n",
       "2017-06-01  2430.06  5816.511    1.006207  1.006600   NaN  2.393567"
      ]
     },
     "execution_count": 7,
     "metadata": {},
     "output_type": "execute_result"
    }
   ],
   "source": [
    "plot_data = data[-points_to_plot:]\n",
    "\n",
    "plot_data.head()"
   ]
  },
  {
   "cell_type": "code",
   "execution_count": 8,
   "metadata": {},
   "outputs": [
    {
     "data": {
      "text/html": [
       "<div>\n",
       "<style scoped>\n",
       "    .dataframe tbody tr th:only-of-type {\n",
       "        vertical-align: middle;\n",
       "    }\n",
       "\n",
       "    .dataframe tbody tr th {\n",
       "        vertical-align: top;\n",
       "    }\n",
       "\n",
       "    .dataframe thead th {\n",
       "        text-align: right;\n",
       "    }\n",
       "</style>\n",
       "<table border=\"1\" class=\"dataframe\">\n",
       "  <thead>\n",
       "    <tr style=\"text-align: right;\">\n",
       "      <th></th>\n",
       "      <th>SP500</th>\n",
       "      <th>NDX</th>\n",
       "      <th>SP500_norm</th>\n",
       "      <th>NDX_norm</th>\n",
       "      <th>corr</th>\n",
       "      <th>rel_str</th>\n",
       "    </tr>\n",
       "    <tr>\n",
       "      <th>Date</th>\n",
       "      <th></th>\n",
       "      <th></th>\n",
       "      <th></th>\n",
       "      <th></th>\n",
       "      <th></th>\n",
       "      <th></th>\n",
       "    </tr>\n",
       "  </thead>\n",
       "  <tbody>\n",
       "    <tr>\n",
       "      <th>2017-05-25</th>\n",
       "      <td>2415.07</td>\n",
       "      <td>5778.374</td>\n",
       "      <td>NaN</td>\n",
       "      <td>NaN</td>\n",
       "      <td>NaN</td>\n",
       "      <td>2.392632</td>\n",
       "    </tr>\n",
       "    <tr>\n",
       "      <th>2017-05-26</th>\n",
       "      <td>2415.82</td>\n",
       "      <td>5788.359</td>\n",
       "      <td>1.000311</td>\n",
       "      <td>1.001728</td>\n",
       "      <td>NaN</td>\n",
       "      <td>2.396022</td>\n",
       "    </tr>\n",
       "    <tr>\n",
       "      <th>2017-05-30</th>\n",
       "      <td>2412.91</td>\n",
       "      <td>5794.632</td>\n",
       "      <td>0.999106</td>\n",
       "      <td>1.002814</td>\n",
       "      <td>NaN</td>\n",
       "      <td>2.401512</td>\n",
       "    </tr>\n",
       "    <tr>\n",
       "      <th>2017-05-31</th>\n",
       "      <td>2411.80</td>\n",
       "      <td>5788.802</td>\n",
       "      <td>0.998646</td>\n",
       "      <td>1.001805</td>\n",
       "      <td>NaN</td>\n",
       "      <td>2.400200</td>\n",
       "    </tr>\n",
       "    <tr>\n",
       "      <th>2017-06-01</th>\n",
       "      <td>2430.06</td>\n",
       "      <td>5816.511</td>\n",
       "      <td>1.006207</td>\n",
       "      <td>1.006600</td>\n",
       "      <td>NaN</td>\n",
       "      <td>2.393567</td>\n",
       "    </tr>\n",
       "  </tbody>\n",
       "</table>\n",
       "</div>"
      ],
      "text/plain": [
       "              SP500       NDX  SP500_norm  NDX_norm  corr   rel_str\n",
       "Date                                                               \n",
       "2017-05-25  2415.07  5778.374         NaN       NaN   NaN  2.392632\n",
       "2017-05-26  2415.82  5788.359    1.000311  1.001728   NaN  2.396022\n",
       "2017-05-30  2412.91  5794.632    0.999106  1.002814   NaN  2.401512\n",
       "2017-05-31  2411.80  5788.802    0.998646  1.001805   NaN  2.400200\n",
       "2017-06-01  2430.06  5816.511    1.006207  1.006600   NaN  2.393567"
      ]
     },
     "execution_count": 8,
     "metadata": {},
     "output_type": "execute_result"
    }
   ],
   "source": [
    "plot_data = data[-points_to_plot:]\n",
    "\n",
    "plot_data.head()"
   ]
  },
  {
   "cell_type": "code",
   "execution_count": 9,
   "metadata": {},
   "outputs": [
    {
     "data": {
      "text/html": [
       "<div>\n",
       "<style scoped>\n",
       "    .dataframe tbody tr th:only-of-type {\n",
       "        vertical-align: middle;\n",
       "    }\n",
       "\n",
       "    .dataframe tbody tr th {\n",
       "        vertical-align: top;\n",
       "    }\n",
       "\n",
       "    .dataframe thead th {\n",
       "        text-align: right;\n",
       "    }\n",
       "</style>\n",
       "<table border=\"1\" class=\"dataframe\">\n",
       "  <thead>\n",
       "    <tr style=\"text-align: right;\">\n",
       "      <th></th>\n",
       "      <th>SP500</th>\n",
       "      <th>NDX</th>\n",
       "      <th>SP500_norm</th>\n",
       "      <th>NDX_norm</th>\n",
       "      <th>corr</th>\n",
       "      <th>rel_str</th>\n",
       "    </tr>\n",
       "    <tr>\n",
       "      <th>Date</th>\n",
       "      <th></th>\n",
       "      <th></th>\n",
       "      <th></th>\n",
       "      <th></th>\n",
       "      <th></th>\n",
       "      <th></th>\n",
       "    </tr>\n",
       "  </thead>\n",
       "  <tbody>\n",
       "    <tr>\n",
       "      <th>2018-07-27</th>\n",
       "      <td>2818.82</td>\n",
       "      <td>7296.781</td>\n",
       "      <td>1.167179</td>\n",
       "      <td>1.262774</td>\n",
       "      <td>0.939082</td>\n",
       "      <td>2.588594</td>\n",
       "    </tr>\n",
       "    <tr>\n",
       "      <th>2018-07-30</th>\n",
       "      <td>2802.60</td>\n",
       "      <td>7193.103</td>\n",
       "      <td>1.160463</td>\n",
       "      <td>1.244832</td>\n",
       "      <td>0.938597</td>\n",
       "      <td>2.566582</td>\n",
       "    </tr>\n",
       "    <tr>\n",
       "      <th>2018-07-31</th>\n",
       "      <td>2816.29</td>\n",
       "      <td>7231.983</td>\n",
       "      <td>1.166132</td>\n",
       "      <td>1.251560</td>\n",
       "      <td>0.938573</td>\n",
       "      <td>2.567911</td>\n",
       "    </tr>\n",
       "    <tr>\n",
       "      <th>2018-08-01</th>\n",
       "      <td>2813.36</td>\n",
       "      <td>7272.887</td>\n",
       "      <td>1.164919</td>\n",
       "      <td>1.258639</td>\n",
       "      <td>0.935668</td>\n",
       "      <td>2.585125</td>\n",
       "    </tr>\n",
       "    <tr>\n",
       "      <th>2018-08-02</th>\n",
       "      <td>2827.22</td>\n",
       "      <td>7372.148</td>\n",
       "      <td>1.170658</td>\n",
       "      <td>1.275817</td>\n",
       "      <td>0.935795</td>\n",
       "      <td>2.607561</td>\n",
       "    </tr>\n",
       "  </tbody>\n",
       "</table>\n",
       "</div>"
      ],
      "text/plain": [
       "              SP500       NDX  SP500_norm  NDX_norm      corr   rel_str\n",
       "Date                                                                   \n",
       "2018-07-27  2818.82  7296.781    1.167179  1.262774  0.939082  2.588594\n",
       "2018-07-30  2802.60  7193.103    1.160463  1.244832  0.938597  2.566582\n",
       "2018-07-31  2816.29  7231.983    1.166132  1.251560  0.938573  2.567911\n",
       "2018-08-01  2813.36  7272.887    1.164919  1.258639  0.935668  2.585125\n",
       "2018-08-02  2827.22  7372.148    1.170658  1.275817  0.935795  2.607561"
      ]
     },
     "execution_count": 9,
     "metadata": {},
     "output_type": "execute_result"
    }
   ],
   "source": [
    "plot_data.tail()"
   ]
  },
  {
   "cell_type": "code",
   "execution_count": 23,
   "metadata": {},
   "outputs": [
    {
     "data": {
      "text/plain": [
       "<matplotlib.legend.Legend at 0x7f01777cca20>"
      ]
     },
     "execution_count": 23,
     "metadata": {},
     "output_type": "execute_result"
    },
    {
     "data": {
      "image/png": "[encoded data removed]",
      "text/plain": [
       "<Figure size 864x576 with 3 Axes>"
      ]
     },
     "metadata": {
      "needs_background": "light"
     },
     "output_type": "display_data"
    }
   ],
   "source": [
    "fig = plt.figure(figsize=(12,8))\n",
    "\n",
    "#first subplot\n",
    "\n",
    "ax1 = fig.add_subplot(311)\n",
    "ax1.set_title('index_comparison')\n",
    "ax1.semilogy(plot_data['SP500_norm'], linestyle = '-', label='SP500', linewidth=3.0)\n",
    "ax1.semilogy(plot_data['NDX_norm'], linestyle='--', label='NDX', linewidth=3.0)\n",
    "ax1.grid()\n",
    "ax1.legend()\n",
    "\n",
    "#second subplot\n",
    "\n",
    "ax2 = fig.add_subplot(312)\n",
    "ax2.set_title('relative strength')\n",
    "ax2.plot( plot_data['rel_str'], linestyle=':', label='rel_Str', linewidth = 3.0 )\n",
    "ax2.grid()\n",
    "ax2.legend()\n",
    "\n",
    "#third subplot\n",
    "\n",
    "ax3 = fig.add_subplot(313)\n",
    "ax3.set_title('correlation')\n",
    "ax3.plot(plot_data['corr'], linestyle='-.', label='correlation', linewidth = 3.0)\n",
    "ax3.grid()\n",
    "ax3.legend()\n"
   ]
  },
  {
   "cell_type": "code",
   "execution_count": 19,
   "metadata": {},
   "outputs": [
    {
     "data": {
      "text/plain": [
       "<matplotlib.legend.Legend at 0x7f017762cdd8>"
      ]
     },
     "execution_count": 19,
     "metadata": {},
     "output_type": "execute_result"
    }
   ],
   "source": [
    "\n"
   ]
  },
  {
   "cell_type": "code",
   "execution_count": null,
   "metadata": {},
   "outputs": [],
   "source": []
  }
 ],
 "metadata": {
  "kernelspec": {
   "display_name": "Python 3",
   "language": "python",
   "name": "python3"
  },
  "language_info": {
   "codemirror_mode": {
    "name": "ipython",
    "version": 3
   },
   "file_extension": ".py",
   "mimetype": "text/x-python",
   "name": "python",
   "nbconvert_exporter": "python",
   "pygments_lexer": "ipython3",
   "version": "3.7.3"
  }
 },
 "nbformat": 4,
 "nbformat_minor": 2
}
